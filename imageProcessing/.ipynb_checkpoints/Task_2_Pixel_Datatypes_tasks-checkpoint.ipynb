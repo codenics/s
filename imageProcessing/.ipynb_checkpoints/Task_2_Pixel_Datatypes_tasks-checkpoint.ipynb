{
 "cells": [
  {
   "cell_type": "code",
   "execution_count": null,
   "metadata": {},
   "outputs": [],
   "source": [
    "from imageio import imread\n",
    "import numpy as np\n",
    "import matplotlib.pyplot as plt\n",
    "from skimage.transform import resize"
   ]
  },
  {
   "cell_type": "markdown",
   "metadata": {},
   "source": [
    "# 2. Bit (Pixel) Depth"
   ]
  },
  {
   "cell_type": "markdown",
   "metadata": {},
   "source": [
    "## Task 2.1\n",
    "Execute the code beneath and try to answer following questions:\n",
    "\n",
    "- What influence does the bit depth have on the quality of a digital image?\n",
    "- How can we change the bit depth of an image in python?\n",
    "- What is crucial if we change from integers to floating point pixel values and vice versa?"
   ]
  },
  {
   "cell_type": "code",
   "execution_count": null,
   "metadata": {},
   "outputs": [],
   "source": [
    "im = imread(\"../../samples/lena.jpg\", pilmode=\"L\")\n",
    "\n",
    "# Down-scale an image\n",
    "# the resulting pixel type is double precision float (float64)\n",
    "im2 = resize(im, [256, 256])\n",
    "\n",
    "# convert pixel type to unsigned 8-bit integer\n",
    "im3 = im2.astype(np.uint8)\n",
    "\n",
    "# Display information about the image size, pixel type and how many bytes the image has\n",
    "fmt_string = \"Size: {} \\t Data Type: {} \\t #bytes: {:,} \\t kB: {:,}\"\n",
    "print(fmt_string.format(im.shape,   im.dtype,  im.nbytes, im.nbytes / 1024))\n",
    "print(fmt_string.format(im2.shape,  im2.dtype, im2.nbytes, im2.nbytes / 1024))\n",
    "print(fmt_string.format(im3.shape,  im3.dtype, im3.nbytes, im3.nbytes / 1024))"
   ]
  },
  {
   "cell_type": "code",
   "execution_count": null,
   "metadata": {},
   "outputs": [],
   "source": [
    "# visualize all 3 images\n",
    "fig, axs = plt.subplots(1,3, figsize=(16,9))\n",
    "\n",
    "axs[0].imshow(im, cmap=plt.cm.gray)\n",
    "axs[0].set_title(\"Original image\")\n",
    "\n",
    "axs[1].imshow(im2, cmap=plt.cm.gray)\n",
    "axs[1].set_title(\"Downscaled image\")\n",
    "\n",
    "axs[2].imshow(im3, cmap=plt.cm.gray)\n",
    "axs[2].set_title(\"Downscaled image with unsigned 8-bit integer pixel values\")\n",
    "\n",
    "plt.show()"
   ]
  },
  {
   "cell_type": "markdown",
   "metadata": {},
   "source": [
    "## Task 2.2\n",
    "How can we *\"correct\"* the negative image `samples/negative.jpg`?\n",
    "\n",
    "<img src=\"../../samples/negative.jpg\">"
   ]
  },
  {
   "cell_type": "code",
   "execution_count": null,
   "metadata": {},
   "outputs": [],
   "source": [
    "im = imread(\"../../samples/negative.jpg\", pilmode=\"L\")\n",
    "\n",
    "im_corrected = ### COMPUTE INVERTED IMAGE\n",
    "\n",
    "fig, axs = plt.subplots(1,2, figsize=(16,9))\n",
    "\n",
    "axs[0].imshow(im, cmap=plt.cm.gray)\n",
    "axs[0].set_title(\"Original image\")\n",
    "\n",
    "axs[1].imshow(im_corrected, cmap=plt.cm.gray)\n",
    "axs[1].set_title(\"Corrected image\")\n",
    "plt.show()\n"
   ]
  },
  {
   "cell_type": "code",
   "execution_count": null,
   "metadata": {},
   "outputs": [],
   "source": []
  }
 ],
 "metadata": {
  "kernelspec": {
   "display_name": "Python 3",
   "language": "python",
   "name": "python3"
  },
  "language_info": {
   "codemirror_mode": {
    "name": "ipython",
    "version": 3
   },
   "file_extension": ".py",
   "mimetype": "text/x-python",
   "name": "python",
   "nbconvert_exporter": "python",
   "pygments_lexer": "ipython3",
   "version": "3.6.7"
  }
 },
 "nbformat": 4,
 "nbformat_minor": 2
}
