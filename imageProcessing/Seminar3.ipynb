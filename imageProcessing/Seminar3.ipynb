{
 "cells": [
  {
   "cell_type": "code",
   "execution_count": 5,
   "metadata": {},
   "outputs": [],
   "source": [
    "#Histogram is the distribution of intensity values\n",
    "#Histogram Linearisation\n",
    "import numpy as np\n",
    "from imageio import imread\n",
    "\n",
    "im = imread(\"../imageProcessing/samples/lena.jpg\", pilmode=\"L\")\n",
    "def histogram(im):\n",
    "    h, w = im.shape\n",
    "    hist = np.zeros(255, dtype = np.int32)\n",
    "    \n",
    "    for i in range(h):\n",
    "        for j in range(w): \n",
    "            pixel = im[i, j]\n",
    "            \n",
    "            hist[pixel] +=1\n",
    "            \n",
    "            return hist\n",
    "\n",
    "def plot_histogram(im, histo):\n",
    "    fig, axs = plt.subplots(2, 1, figsize = (16, 9))\n",
    "    ax.imshow(im, cmap=plt.cm.gray)\n",
    "    plt.show()"
   ]
  },
  {
   "cell_type": "code",
   "execution_count": null,
   "metadata": {},
   "outputs": [],
   "source": []
  }
 ],
 "metadata": {
  "kernelspec": {
   "display_name": "Python 3",
   "language": "python",
   "name": "python3"
  },
  "language_info": {
   "codemirror_mode": {
    "name": "ipython",
    "version": 3
   },
   "file_extension": ".py",
   "mimetype": "text/x-python",
   "name": "python",
   "nbconvert_exporter": "python",
   "pygments_lexer": "ipython3",
   "version": "3.7.1"
  }
 },
 "nbformat": 4,
 "nbformat_minor": 2
}
