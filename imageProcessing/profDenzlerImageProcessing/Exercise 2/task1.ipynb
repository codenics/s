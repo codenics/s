{
 "cells": [
  {
   "cell_type": "code",
   "execution_count": null,
   "metadata": {},
   "outputs": [],
   "source": [
    "import numpy as np\n",
    "import matplotlib.pyplot as plt\n",
    "\n",
    "from imageio import imread\n",
    "from skimage.transform import resize\n",
    "from scipy.ndimage.filters import convolve"
   ]
  },
  {
   "cell_type": "code",
   "execution_count": null,
   "metadata": {},
   "outputs": [],
   "source": [
    "im = imread(\"../../samples/lena.jpg\", pilmode=\"L\")\n",
    "im = resize(im, (128,128), mode=\"reflect\", anti_aliasing=True)\n",
    "im = (im * 255).astype(np.uint8)\n",
    "\n",
    "print(im.shape)\n",
    "\n",
    "fig, ax = plt.subplots(figsize=(16,9))\n",
    "ax.imshow(im, cmap=plt.cm.gray)\n",
    "plt.show()"
   ]
  },
  {
   "cell_type": "markdown",
   "metadata": {},
   "source": [
    "# Exersice 2: Spatial Filtering (Convolution)\n",
    "\n",
    "**Filtering** is a discrete convolution of an image $I$ with a filter mask $A \\in \\mathbb{R}^{m \\times n}$:\n",
    "\n",
    "$$\n",
    "\\begin{align}\n",
    " I_{A}       &= I * A \\\\\n",
    " I_{A}(i, j) &= \\left(I * A\\right)(i, j) \\\\\n",
    "                                       &= \\sum_{h=-\\frac{m}{2}}^{\\frac{m}{2}} \\sum_{k=-\\frac{n}{2}}^{\\frac{n}{2}} A\\left(h + \\frac{m}{2} , k+\\frac{n}{2}\\right) \\cdot I(i-h, j-k)\n",
    "\\end{align}\n",
    "$$\n",
    "\n",
    "Typically, the filter masks are square matrices, meaning $n=m$.\n",
    "A special filter mask can be a **box filter**:\n",
    "\n",
    "$$\n",
    "\\begin{align}\n",
    "  B =%\n",
    "  \\dfrac{1}{9}\\begin{pmatrix}\n",
    "              1&1&1\\\\1&1&1\\\\1&1&1\n",
    "             \\end{pmatrix}.\n",
    "\\end{align}\n",
    "$$"
   ]
  },
  {
   "cell_type": "markdown",
   "metadata": {},
   "source": [
    "## Task 1 - Convolution Implementation\n",
    "\n",
    "- Write a function, that applies an arbitrary (squared) filter to an image\n",
    "- Is there any way to speed up your code?\n",
    "- Test your code (possibly different implementations) and compare the runtimes\n",
    "- Compare your implementation with the built-in method <code>scipy.ndimage.filters.convolve</code> (quality and runtime)"
   ]
  },
  {
   "cell_type": "markdown",
   "metadata": {},
   "source": [
    "### Solution"
   ]
  },
  {
   "cell_type": "code",
   "execution_count": null,
   "metadata": {},
   "outputs": [],
   "source": [
    "def imfilter1(im, mask):\n",
    "    h, w = im.shape\n",
    "    m, n = mask.shape\n",
    "    \n",
    "    m_delta, n_delta = int((m-1) / 2), int((n-1) / 2)\n",
    "    result = np.zeros(im.shape, dtype=np.float32)\n",
    "    \n",
    "    # Iterate over the image\n",
    "    for y in range(h):\n",
    "        for x in range(w):\n",
    "            weighted_patch = np.zeros_like(mask)\n",
    "            \n",
    "            # Iterate over the filter mask\n",
    "            for i in range(-m_delta, m_delta+1):\n",
    "                for j in range(-n_delta, n_delta+1):\n",
    "                    \n",
    "                    # get \"correct\" coordinates in the weight mask\n",
    "                    y_mask = # FILL ME!\n",
    "                    x_mask = # FILL ME!\n",
    "\n",
    "                    # compute for each position of the weight\n",
    "                    # according coordinates in input image\n",
    "                    y_src = # FILL ME!\n",
    "                    x_src = # FILL ME!\n",
    "                    \n",
    "                    # get pixel value and the mask weight, \n",
    "                    # multiply them, store them in the \n",
    "                    # weighted patch and ...\n",
    "                    pixel = # FILL ME!\n",
    "                    weight = # FILL ME!\n",
    "                    \n",
    "            # ... sum it up in the result image\n",
    "            result[y,x] = # FILL ME\n",
    "    return result.astype(im.dtype)"
   ]
  },
  {
   "cell_type": "code",
   "execution_count": null,
   "metadata": {},
   "outputs": [],
   "source": [
    "def imfilter2(im, mask, mode=\"edge\"):\n",
    "    \n",
    "    h, w = im.shape\n",
    "    m, n = mask.shape\n",
    "    \n",
    "    m_delta, n_delta = int((m-1) / 2), int((n-1) / 2)\n",
    "    result = np.zeros(im.shape, dtype=np.float32)\n",
    "    \n",
    "    # extend (pad) the image\n",
    "    im_padded = np.pad(im, [(m_delta, m_delta), (n_delta, n_delta)], mode=mode)\n",
    "    new_h, new_w = im_padded.shape\n",
    "    \n",
    "    for y in np.arange(h) + m_delta:\n",
    "        for x in np.arange(w) + n_delta:\n",
    "            \"\"\"\n",
    "                Here you need to do the following:\n",
    "                - compute the extents, where the filter mask is currently located over the input image\n",
    "                - get the image patch under this extent\n",
    "                - compute it weighted sum with the mask\n",
    "                - store the value in the correct position in the output\n",
    "            \"\"\"\n",
    "            # FILL ME!\n",
    "            pass\n",
    "    return result.astype(im.dtype)"
   ]
  },
  {
   "cell_type": "code",
   "execution_count": null,
   "metadata": {
    "scrolled": false
   },
   "outputs": [],
   "source": [
    "I = im.copy()\n",
    "size = 3\n",
    "# TODO: construct the box filter with the given size\n",
    "B = # FILL ME!\n",
    "\n",
    "# TODO: compute convolution with different methods \n",
    "# and display the runtimes\n",
    "print(\"imfilter1\")\n",
    "# FILL ME!\n",
    "\n",
    "print(\"imfilter2\")\n",
    "# FILL ME!\n",
    "\n",
    "print(\"convolve\")\n",
    "# FILL ME!"
   ]
  },
  {
   "cell_type": "code",
   "execution_count": null,
   "metadata": {},
   "outputs": [],
   "source": [
    "fig, axs = plt.subplots(2,2, figsize=(16,9))\n",
    "\n",
    "axs[0,0].imshow(I, cmap=plt.cm.gray)\n",
    "axs[0,0].set_title(\"Original\")\n",
    "\n",
    "axs[0,1].imshow(I1, cmap=plt.cm.gray)\n",
    "axs[0,1].set_title(\"imfilter1\")\n",
    "\n",
    "axs[1,0].imshow(I2, cmap=plt.cm.gray)\n",
    "axs[1,0].set_title(\"imfilter2\")\n",
    "\n",
    "axs[1,1].imshow(I3, cmap=plt.cm.gray)\n",
    "axs[1,1].set_title(\"convolve\")\n",
    "\n",
    "plt.show()"
   ]
  },
  {
   "cell_type": "code",
   "execution_count": null,
   "metadata": {},
   "outputs": [],
   "source": [
    "fig, axs = plt.subplots(2,2, figsize=(16,9))\n",
    "\n",
    "axs[0,0].imshow(I, cmap=plt.cm.gray)\n",
    "axs[0,0].set_title(\"Original\")\n",
    "\n",
    "axs[0,1].imshow(np.abs(I1-I2), vmin=0, vmax=255)\n",
    "axs[0,1].set_title(\"Difference imfilter1 vs imfilter2\")\n",
    "\n",
    "axs[1,0].imshow(np.abs(I1-I3), vmin=0, vmax=255)\n",
    "axs[1,0].set_title(\"Difference imfilter1 vs convolve\")\n",
    "\n",
    "axs[1,1].imshow(np.abs(I2-I3), vmin=0, vmax=255)\n",
    "axs[1,1].set_title(\"Difference imfilter2 vs convolve\")\n",
    "\n",
    "plt.show()"
   ]
  },
  {
   "cell_type": "code",
   "execution_count": null,
   "metadata": {},
   "outputs": [],
   "source": []
  },
  {
   "cell_type": "code",
   "execution_count": null,
   "metadata": {},
   "outputs": [],
   "source": []
  }
 ],
 "metadata": {
  "kernelspec": {
   "display_name": "Python 3",
   "language": "python",
   "name": "python3"
  },
  "language_info": {
   "codemirror_mode": {
    "name": "ipython",
    "version": 3
   },
   "file_extension": ".py",
   "mimetype": "text/x-python",
   "name": "python",
   "nbconvert_exporter": "python",
   "pygments_lexer": "ipython3",
   "version": "3.6.7"
  }
 },
 "nbformat": 4,
 "nbformat_minor": 2
}
