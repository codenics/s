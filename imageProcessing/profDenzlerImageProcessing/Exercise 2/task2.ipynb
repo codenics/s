{
 "cells": [
  {
   "cell_type": "code",
   "execution_count": null,
   "metadata": {},
   "outputs": [],
   "source": [
    "import numpy as np\n",
    "import matplotlib.pyplot as plt\n",
    "\n",
    "from imageio import imread\n",
    "from skimage.transform import resize\n",
    "from scipy.ndimage.filters import convolve"
   ]
  },
  {
   "cell_type": "code",
   "execution_count": null,
   "metadata": {},
   "outputs": [],
   "source": [
    "im = imread(\"../../samples/lena.jpg\", pilmode=\"L\")\n",
    "\n",
    "print(im.shape)\n",
    "\n",
    "fig, ax = plt.subplots(figsize=(16,9))\n",
    "ax.imshow(im, cmap=plt.cm.gray)\n",
    "plt.show()"
   ]
  },
  {
   "cell_type": "markdown",
   "metadata": {},
   "source": [
    "# Exersice 2: Spatial Filtering (Convolution)\n",
    "\n",
    "**Filtering** is a discrete convolution of an image $I$ with a filter mask $A \\in \\mathbb{R}^{m \\times n}$:\n",
    "\n",
    "$$\n",
    "\\begin{align}\n",
    " I_{A}       &= I * A \\\\\n",
    " I_{A}(i, j) &= \\left(I * A\\right)(i, j) \\\\\n",
    "                                       &= \\sum_{h=-\\frac{m}{2}}^{\\frac{m}{2}} \\sum_{k=-\\frac{n}{2}}^{\\frac{n}{2}} A\\left(h + \\frac{m}{2} , k+\\frac{n}{2}\\right) \\cdot I(i-h, j-k)\n",
    "\\end{align}\n",
    "$$\n",
    "\n",
    "Typically, the filter masks are square matrices, meaning $n=m$.\n",
    "A special filter mask can be a **box filter**:\n",
    "\n",
    "$$\n",
    "\\begin{align}\n",
    "  B =%\n",
    "  \\dfrac{1}{9}\\begin{pmatrix}\n",
    "              1&1&1\\\\1&1&1\\\\1&1&1\n",
    "             \\end{pmatrix}.\n",
    "\\end{align}\n",
    "$$"
   ]
  },
  {
   "cell_type": "markdown",
   "metadata": {},
   "source": [
    "## Task 2 - Difference between filter result and input\n",
    "*Hint: for these Tasks convert the pixel values to the range [0.0 ... 1.0]* \n",
    "- Compute the a convolution $I_B$ of an image $I$ with a box filter $B$\n",
    "- Compute the difference image $D_B=I_B-I$ and visualize the result. How can we interpret the result? \n",
    "- What is the mathematical background behind this difference image (*hint: dirac impulse*)?\n",
    "- How can we compute $D_B$ directly from $I$ and $B$ without the intermediate $I_B$?\n",
    "- Compare the two ways of computing the difference image."
   ]
  },
  {
   "cell_type": "markdown",
   "metadata": {},
   "source": [
    "### Solutions"
   ]
  },
  {
   "cell_type": "code",
   "execution_count": null,
   "metadata": {
    "scrolled": false
   },
   "outputs": [],
   "source": [
    "# TODO: convert pixel range from [0 .. 255] to [0 .. 1] \n",
    "I = # FILL ME\n",
    "\n",
    "size = 9\n",
    "B = # FILL ME\n",
    "\n",
    "I_B = # FILL ME\n",
    "D_B = # FILL ME\n",
    "\n",
    "fig, axs = plt.subplots(1,3, figsize=(16,9))\n",
    "\n",
    "axs[0].imshow(I, cmap=plt.cm.gray)\n",
    "axs[0].set_title(\"Original\")\n",
    "\n",
    "axs[1].imshow(I_B, cmap=plt.cm.gray)\n",
    "axs[1].set_title(\"Convolved\")\n",
    "\n",
    "axs[2].imshow(D_B, cmap=plt.cm.gray)\n",
    "axs[2].set_title(\"Difference\")\n",
    "\n",
    "plt.show()"
   ]
  },
  {
   "cell_type": "markdown",
   "metadata": {},
   "source": [
    "### Mathematical background\n",
    "\n",
    "*TODO: use the dirac impulse to construct $C$ from $B$*\n",
    "\n",
    "$$\n",
    "\\begin{align}\n",
    "D_B &= I - I_B \\\\\n",
    "D_B &= I - I * B \\\\\n",
    "D_B(i, j) &= I(i,j) - \\left(I * B\\right)(i, j) \\\\\n",
    " &= I(i,j) -\\sum_{h=-\\frac{m}{2}}^{\\frac{m}{2}} \\sum_{k=-\\frac{n}{2}}^{\\frac{n}{2}} B\\left(h + \\frac{m}{2} , k+\\frac{n}{2}\\right) \\cdot I(i-h, j-k) \\\\\n",
    " \\dots \\\\\n",
    "D_B &= I * C\n",
    "\\end{align}\n",
    "$$\n",
    "with $C=???$"
   ]
  },
  {
   "cell_type": "markdown",
   "metadata": {},
   "source": [
    "### Comparison"
   ]
  },
  {
   "cell_type": "code",
   "execution_count": null,
   "metadata": {},
   "outputs": [],
   "source": [
    "I = # FILL ME\n",
    "\n",
    "size = 9\n",
    "B = # FILL ME\n",
    "\n",
    "C = # FILL ME\n",
    "\n",
    "D_B = I - convolve(I, B)\n",
    "D_C = convolve(I, C)\n",
    "\n",
    "abs_diff = np.abs(D_C - D_B)\n",
    "\n",
    "print(\"MAP Error: {:.4g}\".format(abs_diff.mean()))\n",
    "print(\"Are these images identical?\", np.allclose(D_C, D_B))\n",
    "\n",
    "fig, axs = plt.subplots(1,4, figsize=(16,9))\n",
    "\n",
    "axs[0].imshow(I, cmap=plt.cm.gray)\n",
    "axs[0].set_title(\"Original\")\n",
    "\n",
    "axs[1].imshow(D_B, cmap=plt.cm.gray)\n",
    "axs[1].set_title(\"$D_B$: Convolved and subtracted\")\n",
    "\n",
    "axs[2].imshow(D_C, cmap=plt.cm.gray)\n",
    "axs[2].set_title(\"$D_C$: Convolved Directly\")\n",
    "\n",
    "axs[3].imshow(abs_diff, vmin=0, vmax=1, cmap=plt.cm.gray)\n",
    "axs[3].set_title(\"Difference\")\n",
    "\n",
    "plt.show()"
   ]
  },
  {
   "cell_type": "code",
   "execution_count": null,
   "metadata": {},
   "outputs": [],
   "source": []
  }
 ],
 "metadata": {
  "kernelspec": {
   "display_name": "Python 3",
   "language": "python",
   "name": "python3"
  },
  "language_info": {
   "codemirror_mode": {
    "name": "ipython",
    "version": 3
   },
   "file_extension": ".py",
   "mimetype": "text/x-python",
   "name": "python",
   "nbconvert_exporter": "python",
   "pygments_lexer": "ipython3",
   "version": "3.6.7"
  }
 },
 "nbformat": 4,
 "nbformat_minor": 2
}
