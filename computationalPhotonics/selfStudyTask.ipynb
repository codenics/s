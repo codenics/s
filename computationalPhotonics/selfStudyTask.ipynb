{
 "cells": [
  {
   "cell_type": "code",
   "execution_count": 226,
   "metadata": {},
   "outputs": [],
   "source": [
    "#@Darko Gilbert\n",
    "#25-04-2019\n",
    "\n",
    "\n",
    "#Self-study tasks\n",
    "#Computational Photonics 2019\n",
    "\n",
    "\n",
    "import numpy as np\n",
    "import matplotlib.pyplot as plt\n",
    "import scipy.integrate as intg\n",
    "import scipy.special as special\n"
   ]
  },
  {
   "cell_type": "code",
   "execution_count": 10,
   "metadata": {},
   "outputs": [
    {
     "data": {
      "text/plain": [
       "Text(0.5, 1.0, 'A graph of x1 against sin(x1).')"
      ]
     },
     "execution_count": 10,
     "metadata": {},
     "output_type": "execute_result"
    },
    {
     "data": {
      "image/png": "[encoded data removed]",
      "text/plain": [
       "<Figure size 432x288 with 1 Axes>"
      ]
     },
     "metadata": {
      "needs_background": "light"
     },
     "output_type": "display_data"
    }
   ],
   "source": [
    "#Problem 1a\n",
    "deltax1 = 0.01\n",
    "x1 = np.arange(0, np.pi, deltax1)\n",
    "y1 = np.sin(x1)\n",
    "\n",
    "plt.plot(x1, y1)\n",
    "plt.xlabel(\"x1\")\n",
    "plt.ylabel(\"y1\")\n",
    "plt.title(\"A graph of x1 against sin(x1).\")"
   ]
  },
  {
   "cell_type": "code",
   "execution_count": 13,
   "metadata": {},
   "outputs": [
    {
     "data": {
      "text/plain": [
       "Text(0.5, 1.0, 'A graph of x2 against exp(x2).')"
      ]
     },
     "execution_count": 13,
     "metadata": {},
     "output_type": "execute_result"
    },
    {
     "data": {
      "image/png": "[encoded data removed]",
      "text/plain": [
       "<Figure size 432x288 with 1 Axes>"
      ]
     },
     "metadata": {
      "needs_background": "light"
     },
     "output_type": "display_data"
    }
   ],
   "source": [
    "#Problem 1b\n",
    "x2 = np.linspace(0, 3, 1024)\n",
    "y2 = np.exp(x2)\n",
    "\n",
    "plt.plot(x2, y2)\n",
    "plt.xlabel(\"x2\")\n",
    "plt.ylabel(\"y2\")\n",
    "plt.title(\"A graph of x2 against exp(x2).\")"
   ]
  },
  {
   "cell_type": "code",
   "execution_count": 27,
   "metadata": {},
   "outputs": [],
   "source": [
    "#Problem 1c\n",
    "A = np.arange(1, 10).reshape(3,3)\n",
    "v = A[0]\n",
    "w = A[:, 1]\n",
    "A = A[:2]"
   ]
  },
  {
   "cell_type": "code",
   "execution_count": 37,
   "metadata": {},
   "outputs": [],
   "source": [
    "#Problem 1d\n",
    "def mymatrixsum(A):\n",
    "    A = np.asarray(A) #Convert input to numpy arrays\n",
    "    sum = A.sum()\n",
    "    return sum\n",
    "    "
   ]
  },
  {
   "cell_type": "code",
   "execution_count": 96,
   "metadata": {},
   "outputs": [],
   "source": [
    "#Problem 1e\n",
    "A = np.ones((1000, 1000)).astype(np.int)\n",
    "for row_index, row in enumerate(A):\n",
    "    for column_index, column in enumerate(row):\n",
    "        if (row_index%2) == 1:\n",
    "            A[row_index, column_index] = 0\n",
    "        if (column_index%2) == 1:\n",
    "            A[row_index, column_index] = 0\n",
    "            \n",
    "B = np.ones((1000, 1000)).astype(np.int)\n",
    "for row_index, row in enumerate(B):\n",
    "    for column_index, column in enumerate(row):\n",
    "        if ((row_index%2) == 0) & ((column_index%2) ==1):#If the column_index is odd and row_index is even value is 0\n",
    "            B[row_index, column_index] = 0\n",
    "        if ((row_index%2) == 1) & ((column_index%2) ==0):#If the column_index is even and row_index is odd value is 0\n",
    "                B[row_index, column_index] = 0"
   ]
  },
  {
   "cell_type": "code",
   "execution_count": 397,
   "metadata": {
    "scrolled": true
   },
   "outputs": [
    {
     "data": {
      "text/plain": [
       "0.9999999999960535"
      ]
     },
     "execution_count": 397,
     "metadata": {},
     "output_type": "execute_result"
    }
   ],
   "source": [
    "#Problem 2 Numerical differentiation\n",
    "#2a\n",
    "# I don't seem to see the bug with in implementing the equation.\n",
    "u = 10**(-6)\n",
    "B = np.array([0.6961663*u, 0.4079426*u, 0.8974794*u])\n",
    "C = np.array([0.0684043, 0.1162414, 9.896161])\n",
    "rIndex = lambda y : 1 + (B[0]*y**2)/(y**2-C[0]**2) + (B[1]*y**2)/(y**2-C[1]**2) + (B[2]*y**2)/(y**2-C[2]**2) \n",
    "rIndex(0.21*10**(-3))**0.5"
   ]
  },
  {
   "cell_type": "code",
   "execution_count": 332,
   "metadata": {},
   "outputs": [
    {
     "data": {
      "text/plain": [
       "8.974794e-07"
      ]
     },
     "execution_count": 332,
     "metadata": {},
     "output_type": "execute_result"
    }
   ],
   "source": [
    "B[2]"
   ]
  },
  {
   "cell_type": "code",
   "execution_count": 265,
   "metadata": {},
   "outputs": [],
   "source": [
    "#Problem 3 Numerical integration\n",
    "z = 3*u\n",
    "lamda = 1*u\n",
    "def IIo(x3):\n",
    "    u3 = x3*np.sqrt(2.0/(lamda*z))\n",
    "    Su, Cu = special.fresnel(u3)\n",
    "    return (1/8)*((((2*Cu) + 1)**2) + (((2*Cu) + 1)**2))\n",
    "\n",
    "u3 = np.linspace(-5, 5, 50\n",
    "                )\n",
    "IIov = IIo(u3)"
   ]
  },
  {
   "cell_type": "code",
   "execution_count": 330,
   "metadata": {},
   "outputs": [
    {
     "data": {
      "text/plain": [
       "nan"
      ]
     },
     "execution_count": 330,
     "metadata": {},
     "output_type": "execute_result"
    }
   ],
   "source": [
    "rIndex.max()"
   ]
  },
  {
   "cell_type": "code",
   "execution_count": 266,
   "metadata": {},
   "outputs": [
    {
     "data": {
      "text/plain": [
       "[<matplotlib.lines.Line2D at 0x12298c780>]"
      ]
     },
     "execution_count": 266,
     "metadata": {},
     "output_type": "execute_result"
    },
    {
     "data": {
      "image/png": "[encoded data removed]",
      "text/plain": [
       "<Figure size 432x288 with 1 Axes>"
      ]
     },
     "metadata": {
      "needs_background": "light"
     },
     "output_type": "display_data"
    }
   ],
   "source": [
    "plt.plot(u3, IIov)"
   ]
  },
  {
   "cell_type": "code",
   "execution_count": 270,
   "metadata": {},
   "outputs": [
    {
     "name": "stdout",
     "output_type": "stream",
     "text": [
      "[2.34042553 1.06382979 2.44680851 0.85106383]\n",
      "[2.34042553 1.06382979 2.44680851 0.85106383]\n"
     ]
    }
   ],
   "source": [
    "#4 Linear equations\n",
    "#2b\n",
    "from numpy.linalg import solve\n",
    "A = np.array([[ 4,-1,-1,-1 ],\n",
    "           [ -1,0,3,0 ],\n",
    "           [ -1,3,0,-1 ],\n",
    "           [ -1,-1,0,4]], float)\n",
    "v = np.array([ 5, 5, 0, 0 ],float)\n",
    "print(solve(A,v))\n",
    "\n",
    "\n",
    "#2c\n",
    "\n",
    "A = np.array([[ 4,-1,-1,-1 ],\n",
    "           [ -1,0,3,0 ],\n",
    "           [ -1,3,0,-1 ],\n",
    "           [ -1,-1,0,4]], float)\n",
    "v = np.array([ 5, 5, 0, 0 ],float)\n",
    "N = len(v)\n",
    "\n",
    "# Gaussian elimination\n",
    "for m in range(N):\n",
    "\n",
    "    # Divide by the diagonal element\n",
    "    div = A[m,m]\n",
    "    A[m,:] /= div\n",
    "    v[m] /= div\n",
    "\n",
    "    # Now subtract from the lower rows\n",
    "    for i in range(m+1,N):\n",
    "        mult = A[i,m]\n",
    "        A[i,:] -= mult*A[m,:]\n",
    "        v[i] -= mult*v[m]\n",
    "\n",
    "# Backsubstitution\n",
    "x = np.empty(N,float)\n",
    "for m in range(N-1,-1,-1):\n",
    "    x[m] = v[m]\n",
    "    for i in range(m+1,N):\n",
    "        x[m] -= A[m,i]*x[i]\n",
    "\n",
    "print(x)"
   ]
  },
  {
   "cell_type": "code",
   "execution_count": 322,
   "metadata": {},
   "outputs": [],
   "source": [
    "#5 Root finding\n",
    "import scipy.constants as cons\n",
    "import scipy.optimize as opt\n",
    "G = cons.gravitational_constant\n",
    "G = 6.674 * 10**-11\n",
    "M = 5.974 * 10**24\n",
    "m = 7.348 * 10**22\n",
    "R = 3.844 * 10**8\n",
    "w = 2.662 * 10**-6\n",
    "\n",
    "def magicalPoint (r):\n",
    "    return G * M * (R - r) ** 2 - G * m * r ** 2 - w ** 2 * r ** 3 * (R - r) ** 2\n",
    "\n",
    "def magicalPointPrime(r):\n",
    "    return -2 * G * M * (R - r) - 2 * G * m * r - 3 * w ** 2 * r ** 2 * (R - r) ** 2  \\\n",
    "    + 2 * w ** 2 * r ** 3 * (R - r)"
   ]
  },
  {
   "cell_type": "code",
   "execution_count": 323,
   "metadata": {},
   "outputs": [],
   "source": [
    "point_r = opt.root_scalar(magicalPoint, fprime=magicalPointPrime, x0=3*10**8, method='newton')"
   ]
  },
  {
   "cell_type": "code",
   "execution_count": 325,
   "metadata": {},
   "outputs": [
    {
     "data": {
      "text/plain": [
       "(326045071.66535544, True, 6)"
      ]
     },
     "execution_count": 325,
     "metadata": {},
     "output_type": "execute_result"
    }
   ],
   "source": [
    "point_r.root, point_r.converged, point_r.iterations"
   ]
  },
  {
   "cell_type": "code",
   "execution_count": null,
   "metadata": {},
   "outputs": [],
   "source": []
  }
 ],
 "metadata": {
  "kernelspec": {
   "display_name": "Python 3",
   "language": "python",
   "name": "python3"
  },
  "language_info": {
   "codemirror_mode": {
    "name": "ipython",
    "version": 3
   },
   "file_extension": ".py",
   "mimetype": "text/x-python",
   "name": "python",
   "nbconvert_exporter": "python",
   "pygments_lexer": "ipython3",
   "version": "3.7.1"
  }
 },
 "nbformat": 4,
 "nbformat_minor": 2
}
