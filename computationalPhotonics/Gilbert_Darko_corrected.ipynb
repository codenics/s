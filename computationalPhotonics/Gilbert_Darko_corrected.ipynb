{
 "metadata": {
  "kernelspec": {
   "display_name": "Python 3",
   "language": "python",
   "name": "python3"
  },
  "language_info": {
   "codemirror_mode": {
    "name": "ipython",
    "version": 3
   },
   "file_extension": ".py",
   "mimetype": "text/x-python",
   "name": "python",
   "nbconvert_exporter": "python",
   "pygments_lexer": "ipython3",
   "version": "3.7.1"
  },
  "name": "",
  "signature": "sha256:14928f73032ee7712fec4daf2cac3db3e6ebefb8b18c8c4b24359bd1fe34c981"
 },
 "nbformat": 3,
 "nbformat_minor": 0,
 "worksheets": [
  {
   "cells": [
    {
     "cell_type": "code",
     "collapsed": false,
     "input": [
      "#@Darko Gilbert\n",
      "#25-04-2019\n",
      "\n",
      "\n",
      "#Self-study tasks\n",
      "#Computational Photonics 2019\n",
      "\n",
      "\n",
      "import numpy as np\n",
      "import matplotlib.pyplot as plt\n",
      "import scipy.integrate as intg\n",
      "import scipy.special as special\n"
     ],
     "language": "python",
     "metadata": {},
     "outputs": [],
     "prompt_number": 1
    },
    {
     "cell_type": "code",
     "collapsed": false,
     "input": [
      "#Problem 1a\n",
      "deltax1 = 0.01\n",
      "x1 = np.arange(0, np.pi, deltax1)\n",
      "y1 = np.sin(x1)\n",
      "\n",
      "plt.plot(x1, y1)\n",
      "plt.xlabel(\"x1\")\n",
      "plt.ylabel(\"y1\")\n",
      "plt.title(\"A graph of x1 against sin(x1).\")\n",
      "\n",
      "# (Alex) Correct"
     ],
     "language": "python",
     "metadata": {},
     "outputs": [
      {
       "metadata": {},
       "output_type": "pyout",
       "prompt_number": 2,
       "text": [
        "Text(0.5, 1.0, 'A graph of x1 against sin(x1).')"
       ]
      },
      {
       "metadata": {
        "needs_background": "light"
       },
       "output_type": "display_data",
       "png": "[encoded data removed]",
       "text": [
        "<Figure size 432x288 with 1 Axes>"
       ]
      }
     ],
     "prompt_number": 2
    },
    {
     "cell_type": "code",
     "collapsed": false,
     "input": [
      "#Problem 1b\n",
      "x2 = np.linspace(0, 3, 1024)\n",
      "y2 = np.exp(x2)\n",
      "\n",
      "plt.plot(x2, y2)\n",
      "plt.xlabel(\"x2\")\n",
      "plt.ylabel(\"y2\")\n",
      "plt.title(\"A graph of x2 against exp(x2).\")\n",
      "\n",
      "# (Alex) Correct"
     ],
     "language": "python",
     "metadata": {},
     "outputs": [
      {
       "metadata": {},
       "output_type": "pyout",
       "prompt_number": 3,
       "text": [
        "Text(0.5, 1.0, 'A graph of x2 against exp(x2).')"
       ]
      },
      {
       "metadata": {
        "needs_background": "light"
       },
       "output_type": "display_data",
       "png": "[encoded data removed]",
       "text": [
        "<Figure size 432x288 with 1 Axes>"
       ]
      }
     ],
     "prompt_number": 3
    },
    {
     "cell_type": "code",
     "collapsed": false,
     "input": [
      "#Problem 1c\n",
      "A = np.arange(1, 10).reshape(3,3)\n",
      "v = A[0]\n",
      "w = A[:, 1]\n",
      "A = A[:2]\n",
      "\n",
      "# (Alex) Correct"
     ],
     "language": "python",
     "metadata": {},
     "outputs": [],
     "prompt_number": 4
    },
    {
     "cell_type": "code",
     "collapsed": false,
     "input": [
      "#Problem 1d\n",
      "def mymatrixsum(A):\n",
      "    A = np.asarray(A) #Convert input to numpy arrays\n",
      "    sum = A.sum()\n",
      "    return sum\n",
      "\n",
      "# (Alex) Correct"
     ],
     "language": "python",
     "metadata": {},
     "outputs": [],
     "prompt_number": 5
    },
    {
     "cell_type": "code",
     "collapsed": false,
     "input": [
      "#Problem 1e\n",
      "A = np.ones((1000, 1000)).astype(np.int)\n",
      "for row_index, row in enumerate(A):\n",
      "    for column_index, column in enumerate(row):\n",
      "        if (row_index%2) == 1:\n",
      "            A[row_index, column_index] = 0\n",
      "        if (column_index%2) == 1:\n",
      "            A[row_index, column_index] = 0         \n",
      "            \n",
      "B = np.ones((1000, 1000)).astype(np.int)\n",
      "for row_index, row in enumerate(B):\n",
      "    for column_index, column in enumerate(row):\n",
      "        if ((row_index%2) == 0) & ((column_index%2) ==1):#If the column_index is odd and row_index is even value is 0\n",
      "            B[row_index, column_index] = 0\n",
      "        if ((row_index%2) == 1) & ((column_index%2) ==0):#If the column_index is even and row_index is odd value is 0\n",
      "                B[row_index, column_index] = 0\n",
      "\n",
      "# (Alex) Correct but whenever possible vectorize the code instead of using nested for loops as the latter is much less efficient\n",
      "# For example, the matrix A can be generated using\n",
      "# A[1::2,:] = 0\n",
      "# A[:,1::2] = 0"
     ],
     "language": "python",
     "metadata": {},
     "outputs": [],
     "prompt_number": 6
    },
    {
     "cell_type": "code",
     "collapsed": false,
     "input": [
      "#Problem 2 Numerical differentiation\n",
      "#2a\n",
      "# I don't seem to see the bug with in implementing the equation.\n",
      "u = 10**(-6)\n",
      "B = np.array([0.6961663*u, 0.4079426*u, 0.8974794*u])\n",
      "C = np.array([0.0684043, 0.1162414, 9.896161])\n",
      "rIndex = lambda y : 1 + (B[0]*y**2)/(y**2-C[0]) + (B[1]*y**2)/(y**2-C[1]) + (B[2]*y**2)/(y**2-C[2]) \n",
      "rIndex(0.21*10**(-6))**0.5\n",
      "\n",
      "# (Alex) C should be squared everywhere (replace by C**2).\n",
      "# There was a typo in the first version of the problem text where this square factor was missing"
     ],
     "language": "python",
     "metadata": {
      "scrolled": true
     },
     "outputs": [
      {
       "metadata": {},
       "output_type": "pyout",
       "prompt_number": 13,
       "text": [
        "1.0"
       ]
      }
     ],
     "prompt_number": 13
    },
    {
     "cell_type": "code",
     "collapsed": false,
     "input": [
      "B[2]"
     ],
     "language": "python",
     "metadata": {},
     "outputs": [
      {
       "metadata": {},
       "output_type": "pyout",
       "prompt_number": 8,
       "text": [
        "8.974794e-07"
       ]
      }
     ],
     "prompt_number": 8
    },
    {
     "cell_type": "code",
     "collapsed": false,
     "input": [
      "#Problem 3 Numerical integration\n",
      "z = 3*u\n",
      "lamda = 1*u\n",
      "def IIo(x3):\n",
      "    u3 = x3*np.sqrt(2.0/(lamda*z))\n",
      "    Su, Cu = special.fresnel(u3)\n",
      "    return (1/8)*((((2*Cu) + 1)**2) + (((2*Cu) + 1)**2))\n",
      "\n",
      "# (Alex) return should (1/8)*( ... + (((2*Su) + 1)**2)) and not Cu twice\n",
      "\n",
      "u3 = np.linspace(-5, 5, 50)\n",
      "IIov = IIo(u3)"
     ],
     "language": "python",
     "metadata": {},
     "outputs": [],
     "prompt_number": 9
    },
    {
     "cell_type": "code",
     "collapsed": false,
     "input": [
      "rIndex.max()"
     ],
     "language": "python",
     "metadata": {},
     "outputs": [
      {
       "ename": "AttributeError",
       "evalue": "'function' object has no attribute 'max'",
       "output_type": "pyerr",
       "traceback": [
        "\u001b[1;31m---------------------------------------------------------------------------\u001b[0m",
        "\u001b[1;31mAttributeError\u001b[0m                            Traceback (most recent call last)",
        "\u001b[1;32m<ipython-input-10-516ca94cb696>\u001b[0m in \u001b[0;36m<module>\u001b[1;34m\u001b[0m\n\u001b[1;32m----> 1\u001b[1;33m \u001b[0mrIndex\u001b[0m\u001b[1;33m.\u001b[0m\u001b[0mmax\u001b[0m\u001b[1;33m(\u001b[0m\u001b[1;33m)\u001b[0m\u001b[1;33m\u001b[0m\u001b[1;33m\u001b[0m\u001b[0m\n\u001b[0m",
        "\u001b[1;31mAttributeError\u001b[0m: 'function' object has no attribute 'max'"
       ]
      }
     ],
     "prompt_number": 10
    },
    {
     "cell_type": "code",
     "collapsed": false,
     "input": [
      "plt.plot(u3, IIov)"
     ],
     "language": "python",
     "metadata": {},
     "outputs": [
      {
       "metadata": {},
       "output_type": "pyout",
       "prompt_number": 12,
       "text": [
        "[<matplotlib.lines.Line2D at 0x27f5de18470>]"
       ]
      },
      {
       "metadata": {
        "needs_background": "light"
       },
       "output_type": "display_data",
       "png": "[encoded data removed]",
       "text": [
        "<Figure size 432x288 with 1 Axes>"
       ]
      }
     ],
     "prompt_number": 12
    },
    {
     "cell_type": "code",
     "collapsed": false,
     "input": [
      "#4 Linear equations\n",
      "#2b\n",
      "from numpy.linalg import solve\n",
      "A = np.array([[ 4,-1,-1,-1 ],\n",
      "           [ -1,0,3,0 ],\n",
      "           [ -1,3,0,-1 ],\n",
      "           [ -1,-1,0,4]], float)\n",
      "v = np.array([ 5, 5, 0, 0 ],float)\n",
      "print(solve(A,v))\n",
      "\n",
      "#(Alex) Correct computational method\n",
      "# However, you obtained the wrong equations for the other 3 junctions in 4a). The correct equations are:\n",
      "# 4V1 - V2 - V3 - V4 = V+ = 5\n",
      "# 3V2 - V1 - V4 = 0\n",
      "# 3V3 - V1 - V4 = V+ = 5\n",
      "# 4V4 - V1 - V2 - V3 = 0\n",
      "\n",
      "#2c\n",
      "\n",
      "A = np.array([[ 4,-1,-1,-1 ],\n",
      "           [ -1,0,3,0 ],\n",
      "           [ -1,3,0,-1 ],\n",
      "           [ -1,-1,0,4]], float)\n",
      "v = np.array([ 5, 5, 0, 0 ],float)\n",
      "N = len(v)\n",
      "\n",
      "# Gaussian elimination\n",
      "for m in range(N):\n",
      "\n",
      "    # Divide by the diagonal element\n",
      "    div = A[m,m]\n",
      "    A[m,:] /= div\n",
      "    v[m] /= div\n",
      "\n",
      "    # Now subtract from the lower rows\n",
      "    for i in range(m+1,N):\n",
      "        mult = A[i,m]\n",
      "        A[i,:] -= mult*A[m,:]\n",
      "        v[i] -= mult*v[m]\n",
      "\n",
      "# Backsubstitution\n",
      "x = np.empty(N,float)\n",
      "for m in range(N-1,-1,-1):\n",
      "    x[m] = v[m]\n",
      "    for i in range(m+1,N):\n",
      "        x[m] -= A[m,i]*x[i]\n",
      "\n",
      "print(x)\n",
      "\n",
      "# (Alex) Correct and efficient implementation of the Gaussian elimination method"
     ],
     "language": "python",
     "metadata": {},
     "outputs": [],
     "prompt_number": null
    },
    {
     "cell_type": "code",
     "collapsed": false,
     "input": [
      "#5 Root finding\n",
      "import scipy.constants as cons\n",
      "import scipy.optimize as opt\n",
      "G = cons.gravitational_constant\n",
      "G = 6.674 * 10**-11\n",
      "M = 5.974 * 10**24\n",
      "m = 7.348 * 10**22\n",
      "R = 3.844 * 10**8\n",
      "w = 2.662 * 10**-6\n",
      "\n",
      "def magicalPoint (r):\n",
      "    return G * M * (R - r) ** 2 - G * m * r ** 2 - w ** 2 * r ** 3 * (R - r) ** 2\n",
      "\n",
      "def magicalPointPrime(r):\n",
      "    return -2 * G * M * (R - r) - 2 * G * m * r - 3 * w ** 2 * r ** 2 * (R - r) ** 2  \\\n",
      "    + 2 * w ** 2 * r ** 3 * (R - r)"
     ],
     "language": "python",
     "metadata": {},
     "outputs": [],
     "prompt_number": null
    },
    {
     "cell_type": "code",
     "collapsed": false,
     "input": [
      "point_r = opt.root_scalar(magicalPoint, fprime=magicalPointPrime, x0=3*10**8, method='newton')"
     ],
     "language": "python",
     "metadata": {},
     "outputs": [],
     "prompt_number": null
    },
    {
     "cell_type": "code",
     "collapsed": false,
     "input": [
      "point_r.root, point_r.converged, point_r.iterations"
     ],
     "language": "python",
     "metadata": {},
     "outputs": [],
     "prompt_number": null
    },
    {
     "cell_type": "code",
     "collapsed": false,
     "input": [
      "# (Alex) Correct"
     ],
     "language": "python",
     "metadata": {},
     "outputs": [],
     "prompt_number": null
    }
   ],
   "metadata": {}
  }
 ]
}
