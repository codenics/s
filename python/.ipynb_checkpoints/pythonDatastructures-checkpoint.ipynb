{
 "cells": [
  {
   "cell_type": "code",
   "execution_count": 5,
   "metadata": {},
   "outputs": [
    {
     "name": "stdout",
     "output_type": "stream",
     "text": [
      "Figure is 56 years old.\n"
     ]
    }
   ],
   "source": [
    "naame = \"Figure\"\n",
    "age = 56\n",
    "print(\"%s is %d years old.\" %(naame, age))"
   ]
  },
  {
   "cell_type": "code",
   "execution_count": 11,
   "metadata": {},
   "outputs": [
    {
     "data": {
      "text/plain": [
       "[1, 4, 9, 16, 25, 36, 49, 64, 81]"
      ]
     },
     "execution_count": 11,
     "metadata": {},
     "output_type": "execute_result"
    }
   ],
   "source": [
    "sqlist=[x*x for x in range(1, 10)]\n",
    "sqlist"
   ]
  },
  {
   "cell_type": "code",
   "execution_count": 15,
   "metadata": {},
   "outputs": [
    {
     "data": {
      "text/plain": [
       "['C', 'M', 'P', 'R', 'H', 'N', 'S', 'N']"
      ]
     },
     "execution_count": 15,
     "metadata": {},
     "output_type": "execute_result"
    }
   ],
   "source": [
    "cm = [ch.upper() for ch in 'comprehension' if ch not in 'aeiou']\n",
    "cm"
   ]
  },
  {
   "cell_type": "code",
   "execution_count": 23,
   "metadata": {},
   "outputs": [
    {
     "name": "stdout",
     "output_type": "stream",
     "text": [
      "Type a positive integer: 8\n",
      "The square root is  2.8284271247461903\n"
     ]
    }
   ],
   "source": [
    "import math\n",
    "integer = input('Type a positive integer: ')\n",
    "if int(integer) < 0:\n",
    "    raise RuntimeError(\"Number must be positive to find Sqrt.\")\n",
    "else: \n",
    "    print('The square root is ', math.sqrt(int(integer)))"
   ]
  },
  {
   "cell_type": "code",
   "execution_count": 52,
   "metadata": {},
   "outputs": [],
   "source": [
    "def sqroot(n):\n",
    "    root = n/2\n",
    "    for k in range(100000):\n",
    "        root = 1/2*(root + (n/root))\n",
    "        \n",
    "    return root \n",
    "\n",
    "def sqrootre(n): \n",
    "    root = n/2\n",
    "    if (root*root == n):\n",
    "        return root\n",
    "    root = 1/2*(root + n/root)\n",
    "    sqrootre(root)\n",
    "            \n",
    "    \n",
    "        "
   ]
  },
  {
   "cell_type": "code",
   "execution_count": null,
   "metadata": {},
   "outputs": [],
   "source": [
    "sqrootre(5)"
   ]
  },
  {
   "cell_type": "code",
   "execution_count": null,
   "metadata": {},
   "outputs": [],
   "source": []
  }
 ],
 "metadata": {
  "kernelspec": {
   "display_name": "Python 3",
   "language": "python",
   "name": "python3"
  },
  "language_info": {
   "codemirror_mode": {
    "name": "ipython",
    "version": 3
   },
   "file_extension": ".py",
   "mimetype": "text/x-python",
   "name": "python",
   "nbconvert_exporter": "python",
   "pygments_lexer": "ipython3",
   "version": "3.7.3"
  }
 },
 "nbformat": 4,
 "nbformat_minor": 2
}
